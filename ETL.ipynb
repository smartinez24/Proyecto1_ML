{
 "cells": [
  {
   "attachments": {},
   "cell_type": "markdown",
   "metadata": {},
   "source": [
    "Importar librerias de python."
   ]
  },
  {
   "cell_type": "code",
   "execution_count": 1,
   "metadata": {},
   "outputs": [],
   "source": [
    "import pandas as pd\n",
    "import numpy as np\n",
    "from datetime import datetime, date"
   ]
  },
  {
   "attachments": {},
   "cell_type": "markdown",
   "metadata": {},
   "source": [
    "Importar csv para trabajar."
   ]
  },
  {
   "cell_type": "code",
   "execution_count": 2,
   "metadata": {},
   "outputs": [],
   "source": [
    "#Importar csv a trabajar. \n",
    "df1 = pd.read_csv('../P1_ML/MLOpsReviews/amazon_prime_titles.csv')\n",
    "df_amazon = pd.DataFrame(df1)\n",
    "\n",
    "df2 = pd.read_csv('../P1_ML/MLOpsReviews/disney_plus_titles.csv')\n",
    "df_disney = pd.DataFrame(df2)\n",
    "\n",
    "df3 = pd.read_csv('../P1_ML/MLOpsReviews/hulu_titles.csv')\n",
    "df_hulu = pd.DataFrame(df3)\n",
    "\n",
    "df4 = pd.read_csv('../P1_ML/MLOpsReviews/netflix_titles.csv')\n",
    "df_netflix = pd.DataFrame(df4)"
   ]
  },
  {
   "attachments": {},
   "cell_type": "markdown",
   "metadata": {},
   "source": [
    "Luego de hacer exploración a los datos, unifico el tipo de dato de cada df, para que se puedan trabajar en conjunto."
   ]
  },
  {
   "cell_type": "code",
   "execution_count": 3,
   "metadata": {},
   "outputs": [],
   "source": [
    "df_hulu['cast'] = df_hulu['cast'].astype('object') #La columna df_hulu['cast'] tenía un tipo de dato diferente. Unificar el tipo de dato."
   ]
  },
  {
   "cell_type": "code",
   "execution_count": 4,
   "metadata": {},
   "outputs": [],
   "source": [
    "#Creación de id para cada plataforma.\n",
    "df_amazon['show_id'] = 'as' + pd.RangeIndex(1, len(df_amazon)+1).astype(str)\n",
    "df_disney['show_id'] = 'ds' + pd.RangeIndex(1, len(df_disney)+1).astype(str)\n",
    "df_hulu['show_id'] = 'hs' + pd.RangeIndex(1, len(df_hulu)+1).astype(str)\n",
    "df_netflix['show_id'] = 'ns' + pd.RangeIndex(1, len(df_netflix)+1).astype(str)"
   ]
  },
  {
   "cell_type": "code",
   "execution_count": 5,
   "metadata": {},
   "outputs": [],
   "source": [
    "df_movies = pd.concat([df_amazon, df_disney, df_hulu, df_netflix], ignore_index=True).drop_duplicates() #Concatenar df para trabajar en conjunto.\n",
    "df_movies.rename(columns = {'show_id' : 'id'}, inplace = True) #Renombrar columna id"
   ]
  },
  {
   "cell_type": "code",
   "execution_count": 6,
   "metadata": {},
   "outputs": [
    {
     "name": "stdout",
     "output_type": "stream",
     "text": [
      "La cantidad de registros nulos para la columna id es igual a: 0, con un total de 22998 datos unicos y registros repetidos entre ellos de 0\n",
      "La cantidad de registros nulos para la columna type es igual a: 0, con un total de 2 datos unicos y registros repetidos entre ellos de 22996\n",
      "La cantidad de registros nulos para la columna title es igual a: 0, con un total de 22115 datos unicos y registros repetidos entre ellos de 883\n",
      "La cantidad de registros nulos para la columna director es igual a: 8259, con un total de 10107 datos unicos y registros repetidos entre ellos de 12891\n",
      "La cantidad de registros nulos para la columna cast es igual a: 5321, con un total de 16749 datos unicos y registros repetidos entre ellos de 6249\n",
      "La cantidad de registros nulos para la columna country es igual a: 11499, con un total de 887 datos unicos y registros repetidos entre ellos de 22111\n",
      "La cantidad de registros nulos para la columna date_added es igual a: 9554, con un total de 2059 datos unicos y registros repetidos entre ellos de 20939\n",
      "La cantidad de registros nulos para la columna release_year es igual a: 0, con un total de 101 datos unicos y registros repetidos entre ellos de 22897\n",
      "La cantidad de registros nulos para la columna rating es igual a: 864, con un total de 106 datos unicos y registros repetidos entre ellos de 22892\n",
      "La cantidad de registros nulos para la columna duration es igual a: 482, con un total de 254 datos unicos y registros repetidos entre ellos de 22744\n",
      "La cantidad de registros nulos para la columna listed_in es igual a: 0, con un total de 1687 datos unicos y registros repetidos entre ellos de 21311\n",
      "La cantidad de registros nulos para la columna description es igual a: 4, con un total de 22671 datos unicos y registros repetidos entre ellos de 327\n"
     ]
    }
   ],
   "source": [
    "#Crear una función para explorar los datos. Nulos, registros unicos y relación entre los mismos.\n",
    "def registros(columna):\n",
    "    nulos = df_movies[columna].isnull().sum()\n",
    "    elements = []\n",
    "    count_unic = 0\n",
    "    count_g = 0\n",
    "    for i in df_movies[columna]:\n",
    "        count_g += 1\n",
    "        elements.append(i)\n",
    "    elements = set(elements)\n",
    "    for e in elements:\n",
    "        count_unic += 1\n",
    "    return 'La cantidad de registros nulos para la columna {} es igual a: {}, con un total de {} datos unicos y registros repetidos entre ellos de {}'.format(columna, nulos, count_unic, count_g-count_unic)\n",
    "for columna in df_movies.columns:\n",
    "    print(registros(columna))"
   ]
  },
  {
   "cell_type": "code",
   "execution_count": 7,
   "metadata": {},
   "outputs": [],
   "source": [
    "df_movies.drop(['director', 'country', 'description'], axis = 1, inplace = True)#Eliminar columnas que no agreguen valor a la consulta."
   ]
  },
  {
   "attachments": {},
   "cell_type": "markdown",
   "metadata": {},
   "source": [
    "A la columna cast, de la cual no podemos obtener una relacion con las demás columnas para llenar nulos y tampoco eliminar porque vamos a trabajar sobre los actores, aplicaremos la funcion fillna con: 'Not info'."
   ]
  },
  {
   "cell_type": "code",
   "execution_count": 8,
   "metadata": {},
   "outputs": [],
   "source": [
    "df_movies['cast'].fillna('Not info', inplace = True)"
   ]
  },
  {
   "attachments": {},
   "cell_type": "markdown",
   "metadata": {},
   "source": [
    "Vamos a trabajar primero sobre la columna date para obtener el año y disminuir los nulos en el df."
   ]
  },
  {
   "cell_type": "code",
   "execution_count": 9,
   "metadata": {},
   "outputs": [],
   "source": [
    "#Separar los datos de la columna added para concatenar la fecha en el formato solicitado.\n",
    "fecha = df_movies['date_added'].str.split(expand=True)\n",
    "fecha.columns = ['month', 'day', 'year']\n",
    "df_movies = pd.concat([df_movies, fecha], axis=1)\n",
    "#Crear la columna con los días, y eliminar la columna original que tiene el caracter ','.\n",
    "df_day = df_movies['day'].str.split(',', expand=True)\n",
    "df_movies['n_day'] = df_day[0]\n",
    "df_movies.drop(['day'], axis = 1, inplace = True)"
   ]
  },
  {
   "cell_type": "code",
   "execution_count": 10,
   "metadata": {},
   "outputs": [
    {
     "data": {
      "text/plain": [
       "['April',\n",
       " 'March',\n",
       " 'January',\n",
       " 'December',\n",
       " 'July',\n",
       " 'June',\n",
       " 'October',\n",
       " 'November',\n",
       " 'August',\n",
       " 'May',\n",
       " 'February',\n",
       " 'September']"
      ]
     },
     "execution_count": 10,
     "metadata": {},
     "output_type": "execute_result"
    }
   ],
   "source": [
    "#Verificar los nombres de los meses para corregirlos y poder aplicar formato fecha de python en la columna.\n",
    "meses = [i for i in df_movies.month]\n",
    "meses_totales = list(set(meses))\n",
    "for e in meses_totales:\n",
    "    if type(e) != str:\n",
    "        meses_totales.remove(e)\n",
    "meses_totales"
   ]
  },
  {
   "cell_type": "code",
   "execution_count": 11,
   "metadata": {},
   "outputs": [],
   "source": [
    "#Cambiar nombres de los meses.\n",
    "df_movies['month'] = df_movies['month'].replace({ 'January': 'Jan', \n",
    "                                                 'February': 'Feb', \n",
    "                                                 'March': 'Mar', \n",
    "                                                 'April': 'Apr', \n",
    "                                                 'May': 'May', \n",
    "                                                 'June': 'Jun', \n",
    "                                                 'July': 'Jul', \n",
    "                                                 'August': 'Aug', \n",
    "                                                 'September': 'Sept', \n",
    "                                                 'October': 'Oct', \n",
    "                                                 'November' : 'Nov',\n",
    "                                                 'December': 'Dec'  })"
   ]
  },
  {
   "attachments": {},
   "cell_type": "markdown",
   "metadata": {},
   "source": [
    "Hallar la media aritmética y la moda del date added, para poder rellenar los campos nulos y tener un acercamiento al año. Para los meses y días podemos a usar Jan/01."
   ]
  },
  {
   "cell_type": "code",
   "execution_count": 12,
   "metadata": {},
   "outputs": [
    {
     "name": "stdout",
     "output_type": "stream",
     "text": [
      "La mediana es 2019 y la moda 2019\n"
     ]
    }
   ],
   "source": [
    "df_movies_str = pd.DataFrame(df_movies)\n",
    "median = df_movies_str[(df_movies_str.year.notnull())]['year'].median()\n",
    "moda = df_movies_str[(df_movies_str.year.notnull())]['year'].mode()\n",
    "print(f'La mediana es {int(median)} y la moda {moda[0]}')"
   ]
  },
  {
   "attachments": {},
   "cell_type": "markdown",
   "metadata": {},
   "source": [
    "Llenamos los valores nulos de la columna year con la mediana/moda que es 2019."
   ]
  },
  {
   "cell_type": "code",
   "execution_count": 13,
   "metadata": {},
   "outputs": [
    {
     "data": {
      "text/plain": [
       "0        30\n",
       "1        30\n",
       "2        30\n",
       "3        30\n",
       "4        30\n",
       "         ..\n",
       "22993    20\n",
       "22994     1\n",
       "22995     1\n",
       "22996    11\n",
       "22997     2\n",
       "Name: n_day, Length: 22998, dtype: int32"
      ]
     },
     "execution_count": 13,
     "metadata": {},
     "output_type": "execute_result"
    }
   ],
   "source": [
    "df_movies['year'].fillna('2019', inplace = True)\n",
    "df_movies['year'].astype(int)\n",
    "#Llenar los meses con 01, osea 'Jan' y los días 1.\n",
    "df_movies['month'].fillna('Jan', inplace = True)\n",
    "df_movies['month'].astype(str)\n",
    "\n",
    "df_movies['n_day'].fillna(1, inplace = True)\n",
    "df_movies['n_day'].astype(int)"
   ]
  },
  {
   "cell_type": "code",
   "execution_count": 14,
   "metadata": {},
   "outputs": [],
   "source": [
    "df_movies['date_added'] = (df_movies['year'].astype(str) + '-' + df_movies['month'] + '-' + df_movies['n_day'].astype(str)) #Ordenar las columnas de date_added.\n",
    "df_movies['date_added'] = pd.to_datetime(df_movies['date_added']) #Convertir a formato de fecha.\n",
    "df_movies.drop(['month', 'year', 'n_day'], axis = 1, inplace = True) #Eliminar columnas ya usadas."
   ]
  },
  {
   "attachments": {},
   "cell_type": "markdown",
   "metadata": {},
   "source": [
    "Los nulos de rating se completan con 'G'."
   ]
  },
  {
   "cell_type": "code",
   "execution_count": 15,
   "metadata": {},
   "outputs": [],
   "source": [
    "df_movies['rating'].fillna('G', inplace = True) #Esta acción se realiza dos veces para reducir los NaN del df y poder trabajarlo sin problemas."
   ]
  },
  {
   "cell_type": "code",
   "execution_count": 16,
   "metadata": {},
   "outputs": [],
   "source": [
    "#Hacer un index a cada dato cruzado en rating, que deberia estar en duration, para que sea más facil ubicar y organizar en la columna correspondiente.\n",
    "nex_duration = []\n",
    "for ind, add in enumerate(df_movies['rating']):\n",
    "    if add.__contains__('min'):\n",
    "        new1 = (ind, add)\n",
    "        nex_duration.append(new1)\n",
    "    if add.__contains__('Season'):\n",
    "        new2 = (ind, add)\n",
    "        nex_duration.append(new2)"
   ]
  },
  {
   "cell_type": "code",
   "execution_count": 17,
   "metadata": {},
   "outputs": [
    {
     "name": "stderr",
     "output_type": "stream",
     "text": [
      "C:\\Users\\Carlo\\AppData\\Local\\Temp\\ipykernel_13536\\912807223.py:3: SettingWithCopyWarning: \n",
      "A value is trying to be set on a copy of a slice from a DataFrame\n",
      "\n",
      "See the caveats in the documentation: https://pandas.pydata.org/pandas-docs/stable/user_guide/indexing.html#returning-a-view-versus-a-copy\n",
      "  df_movies['duration'][u[0]] = u[1]\n",
      "C:\\Users\\Carlo\\AppData\\Local\\Temp\\ipykernel_13536\\912807223.py:4: SettingWithCopyWarning: \n",
      "A value is trying to be set on a copy of a slice from a DataFrame\n",
      "\n",
      "See the caveats in the documentation: https://pandas.pydata.org/pandas-docs/stable/user_guide/indexing.html#returning-a-view-versus-a-copy\n",
      "  df_movies['rating'][u[0]] = 'G'\n"
     ]
    }
   ],
   "source": [
    "#Organizar los datos en la columna duration y eliminarlos de la columna rating, reemplazando por la 'G' para valores nulos de la columna.\n",
    "for u in nex_duration:\n",
    "    df_movies['duration'][u[0]] = u[1]\n",
    "    df_movies['rating'][u[0]] = 'G'"
   ]
  },
  {
   "attachments": {},
   "cell_type": "markdown",
   "metadata": {},
   "source": [
    "Para los nulos de la duracion, medir el promedio y la media de los eventos, ya sea de min o season. Es importante tener en cuenta que la relacion entre duration y type es:\n",
    "\n",
    "- Movie se da siempre en min.\n",
    "- TV show se da siempre en season."
   ]
  },
  {
   "attachments": {},
   "cell_type": "markdown",
   "metadata": {},
   "source": [
    "Para continuar con las consigas y el proceso de ETL, poner en minúscula los datos de tipo texto, para que sea más fácil hacer una búsqueda del dato y manejo del mismo. Para ello: "
   ]
  },
  {
   "cell_type": "code",
   "execution_count": 18,
   "metadata": {},
   "outputs": [],
   "source": [
    "df_movies['type'] = df_movies['type'].str.lower()\n",
    "df_movies['title'] = df_movies['title'].str.lower()\n",
    "df_movies['cast'] = df_movies['cast'].str.lower()\n",
    "df_movies['rating'] = df_movies['rating'].str.lower()\n",
    "df_movies['duration'] = df_movies['duration'].str.lower()\n",
    "df_movies['listed_in'] = df_movies['listed_in'].str.lower()"
   ]
  },
  {
   "attachments": {},
   "cell_type": "markdown",
   "metadata": {},
   "source": [
    "Separar la duración entre duration_int y duration_type."
   ]
  },
  {
   "cell_type": "code",
   "execution_count": 19,
   "metadata": {},
   "outputs": [],
   "source": [
    "duration_time = df_movies['duration'].str.split(expand=True)\n",
    "duration_time.columns = ['duration_int', 'duration_type']\n",
    "df_movies = pd.concat([df_movies, duration_time], axis = 1)"
   ]
  },
  {
   "attachments": {},
   "cell_type": "markdown",
   "metadata": {},
   "source": [
    "Los registros que hacen falta en la columna duration_type, son de min. Para ello, llenar con 'min' los NaN de duration_type y el promedio de 'min' para duration_int."
   ]
  },
  {
   "cell_type": "code",
   "execution_count": 20,
   "metadata": {},
   "outputs": [
    {
     "data": {
      "text/plain": [
       "0            min\n",
       "1            min\n",
       "2            min\n",
       "3            min\n",
       "4            min\n",
       "          ...   \n",
       "22993        min\n",
       "22994    seasons\n",
       "22995        min\n",
       "22996        min\n",
       "22997        min\n",
       "Name: duration_type, Length: 22998, dtype: object"
      ]
     },
     "execution_count": 20,
     "metadata": {},
     "output_type": "execute_result"
    }
   ],
   "source": [
    "df_movies['duration_type'].fillna('min', inplace = True)\n",
    "df_movies['duration_type'].astype(str)"
   ]
  },
  {
   "cell_type": "code",
   "execution_count": 21,
   "metadata": {},
   "outputs": [],
   "source": [
    "movies_type = df_movies[(df_movies['duration_type'] == 'min') & (df_movies['duration_int'] != None)] #Obtener los datos no nulos de las movies\n",
    "movies_type = int(movies_type.duration_int.astype(float).mean()) #Promediar los datos anteriores\n",
    "df_movies['duration_int'].fillna(movies_type, inplace = True) #Llenar los nulos con el promedio\n",
    "df_movies['duration_int'] = df_movies['duration_int'].astype(int) #Convertir la columna a entero(int)"
   ]
  },
  {
   "cell_type": "code",
   "execution_count": 22,
   "metadata": {},
   "outputs": [],
   "source": [
    "df_movies['duration_type'].replace('seasons', 'season', inplace = True) #Unificar el type de duration 'seasons' a 'season'.\n",
    "df_movies.drop(columns = ['duration'], axis = 1, inplace = True) #Eliminar columna duration, ya que fue reemplazada por el int y type de duration.\n",
    "df_movies = df_movies[['id', 'type', 'title', 'cast', 'date_added', 'release_year', 'rating', 'duration_int', 'duration_type', 'listed_in']]#Organizar df."
   ]
  },
  {
   "attachments": {},
   "cell_type": "markdown",
   "metadata": {},
   "source": [
    "Ya tenemos el df de movies limpio. Para llevar a cabo las consultas, es necesario crear un dataframe para actores."
   ]
  },
  {
   "cell_type": "code",
   "execution_count": 23,
   "metadata": {},
   "outputs": [],
   "source": [
    "#Obtener cada uno de los actores de la columna df_movies['cast'], crear un diccionario con la plataforma y el año en donde aparece cada actor.\n",
    "cast_general = df_movies['cast'].str.split(',')\n",
    "dicc_actors = { 'actor' : [],\n",
    "                'platform' : [],\n",
    "                'year' : [] }\n",
    "for ind, actors in enumerate(cast_general):\n",
    "    for actor in actors:\n",
    "        dicc_actors['actor'].append(actor)\n",
    "        dicc_actors['platform'].append(df_movies['id'][ind])\n",
    "        dicc_actors['year'].append(df_movies['release_year'][ind])\n",
    "df_actors = pd.DataFrame(dicc_actors)\n",
    "df_actors.drop(df_actors[df_actors['actor'] == 'not info'].index, inplace = True) # Eliminamos los valores nulos, ya que pueden afectar las consultas."
   ]
  },
  {
   "attachments": {},
   "cell_type": "markdown",
   "metadata": {},
   "source": [
    "Ahora que ya se hizo uso de los datasets que tenían la información de las películas y los actores, convertirmos a csv para las consultas de más adelante."
   ]
  },
  {
   "cell_type": "code",
   "execution_count": 24,
   "metadata": {},
   "outputs": [
    {
     "data": {
      "text/html": [
       "<div>\n",
       "<style scoped>\n",
       "    .dataframe tbody tr th:only-of-type {\n",
       "        vertical-align: middle;\n",
       "    }\n",
       "\n",
       "    .dataframe tbody tr th {\n",
       "        vertical-align: top;\n",
       "    }\n",
       "\n",
       "    .dataframe thead th {\n",
       "        text-align: right;\n",
       "    }\n",
       "</style>\n",
       "<table border=\"1\" class=\"dataframe\">\n",
       "  <thead>\n",
       "    <tr style=\"text-align: right;\">\n",
       "      <th></th>\n",
       "      <th>id</th>\n",
       "      <th>type</th>\n",
       "      <th>title</th>\n",
       "      <th>cast</th>\n",
       "      <th>date_added</th>\n",
       "      <th>release_year</th>\n",
       "      <th>rating</th>\n",
       "      <th>duration_int</th>\n",
       "      <th>duration_type</th>\n",
       "      <th>listed_in</th>\n",
       "    </tr>\n",
       "  </thead>\n",
       "  <tbody>\n",
       "    <tr>\n",
       "      <th>0</th>\n",
       "      <td>as1</td>\n",
       "      <td>movie</td>\n",
       "      <td>the grand seduction</td>\n",
       "      <td>brendan gleeson, taylor kitsch, gordon pinsent</td>\n",
       "      <td>2021-03-30</td>\n",
       "      <td>2014</td>\n",
       "      <td>g</td>\n",
       "      <td>113</td>\n",
       "      <td>min</td>\n",
       "      <td>comedy, drama</td>\n",
       "    </tr>\n",
       "    <tr>\n",
       "      <th>1</th>\n",
       "      <td>as2</td>\n",
       "      <td>movie</td>\n",
       "      <td>take care good night</td>\n",
       "      <td>mahesh manjrekar, abhay mahajan, sachin khedekar</td>\n",
       "      <td>2021-03-30</td>\n",
       "      <td>2018</td>\n",
       "      <td>13+</td>\n",
       "      <td>110</td>\n",
       "      <td>min</td>\n",
       "      <td>drama, international</td>\n",
       "    </tr>\n",
       "    <tr>\n",
       "      <th>2</th>\n",
       "      <td>as3</td>\n",
       "      <td>movie</td>\n",
       "      <td>secrets of deception</td>\n",
       "      <td>tom sizemore, lorenzo lamas, robert lasardo, r...</td>\n",
       "      <td>2021-03-30</td>\n",
       "      <td>2017</td>\n",
       "      <td>g</td>\n",
       "      <td>74</td>\n",
       "      <td>min</td>\n",
       "      <td>action, drama, suspense</td>\n",
       "    </tr>\n",
       "    <tr>\n",
       "      <th>3</th>\n",
       "      <td>as4</td>\n",
       "      <td>movie</td>\n",
       "      <td>pink: staying true</td>\n",
       "      <td>interviews with: pink, adele, beyoncé, britney...</td>\n",
       "      <td>2021-03-30</td>\n",
       "      <td>2014</td>\n",
       "      <td>g</td>\n",
       "      <td>69</td>\n",
       "      <td>min</td>\n",
       "      <td>documentary</td>\n",
       "    </tr>\n",
       "    <tr>\n",
       "      <th>4</th>\n",
       "      <td>as5</td>\n",
       "      <td>movie</td>\n",
       "      <td>monster maker</td>\n",
       "      <td>harry dean stanton, kieran o'brien, george cos...</td>\n",
       "      <td>2021-03-30</td>\n",
       "      <td>1989</td>\n",
       "      <td>g</td>\n",
       "      <td>45</td>\n",
       "      <td>min</td>\n",
       "      <td>drama, fantasy</td>\n",
       "    </tr>\n",
       "  </tbody>\n",
       "</table>\n",
       "</div>"
      ],
      "text/plain": [
       "    id   type                 title  \\\n",
       "0  as1  movie   the grand seduction   \n",
       "1  as2  movie  take care good night   \n",
       "2  as3  movie  secrets of deception   \n",
       "3  as4  movie    pink: staying true   \n",
       "4  as5  movie         monster maker   \n",
       "\n",
       "                                                cast date_added  release_year  \\\n",
       "0     brendan gleeson, taylor kitsch, gordon pinsent 2021-03-30          2014   \n",
       "1   mahesh manjrekar, abhay mahajan, sachin khedekar 2021-03-30          2018   \n",
       "2  tom sizemore, lorenzo lamas, robert lasardo, r... 2021-03-30          2017   \n",
       "3  interviews with: pink, adele, beyoncé, britney... 2021-03-30          2014   \n",
       "4  harry dean stanton, kieran o'brien, george cos... 2021-03-30          1989   \n",
       "\n",
       "  rating  duration_int duration_type                listed_in  \n",
       "0      g           113           min            comedy, drama  \n",
       "1    13+           110           min     drama, international  \n",
       "2      g            74           min  action, drama, suspense  \n",
       "3      g            69           min              documentary  \n",
       "4      g            45           min           drama, fantasy  "
      ]
     },
     "execution_count": 24,
     "metadata": {},
     "output_type": "execute_result"
    }
   ],
   "source": [
    "df_movies.head()"
   ]
  },
  {
   "cell_type": "code",
   "execution_count": 25,
   "metadata": {},
   "outputs": [
    {
     "data": {
      "text/html": [
       "<div>\n",
       "<style scoped>\n",
       "    .dataframe tbody tr th:only-of-type {\n",
       "        vertical-align: middle;\n",
       "    }\n",
       "\n",
       "    .dataframe tbody tr th {\n",
       "        vertical-align: top;\n",
       "    }\n",
       "\n",
       "    .dataframe thead th {\n",
       "        text-align: right;\n",
       "    }\n",
       "</style>\n",
       "<table border=\"1\" class=\"dataframe\">\n",
       "  <thead>\n",
       "    <tr style=\"text-align: right;\">\n",
       "      <th></th>\n",
       "      <th>actor</th>\n",
       "      <th>platform</th>\n",
       "      <th>year</th>\n",
       "    </tr>\n",
       "  </thead>\n",
       "  <tbody>\n",
       "    <tr>\n",
       "      <th>0</th>\n",
       "      <td>brendan gleeson</td>\n",
       "      <td>as1</td>\n",
       "      <td>2014</td>\n",
       "    </tr>\n",
       "    <tr>\n",
       "      <th>1</th>\n",
       "      <td>taylor kitsch</td>\n",
       "      <td>as1</td>\n",
       "      <td>2014</td>\n",
       "    </tr>\n",
       "    <tr>\n",
       "      <th>2</th>\n",
       "      <td>gordon pinsent</td>\n",
       "      <td>as1</td>\n",
       "      <td>2014</td>\n",
       "    </tr>\n",
       "    <tr>\n",
       "      <th>3</th>\n",
       "      <td>mahesh manjrekar</td>\n",
       "      <td>as2</td>\n",
       "      <td>2018</td>\n",
       "    </tr>\n",
       "    <tr>\n",
       "      <th>4</th>\n",
       "      <td>abhay mahajan</td>\n",
       "      <td>as2</td>\n",
       "      <td>2018</td>\n",
       "    </tr>\n",
       "  </tbody>\n",
       "</table>\n",
       "</div>"
      ],
      "text/plain": [
       "              actor platform  year\n",
       "0   brendan gleeson      as1  2014\n",
       "1     taylor kitsch      as1  2014\n",
       "2    gordon pinsent      as1  2014\n",
       "3  mahesh manjrekar      as2  2018\n",
       "4     abhay mahajan      as2  2018"
      ]
     },
     "execution_count": 25,
     "metadata": {},
     "output_type": "execute_result"
    }
   ],
   "source": [
    "df_actors.head()"
   ]
  },
  {
   "cell_type": "code",
   "execution_count": 26,
   "metadata": {},
   "outputs": [],
   "source": [
    "df_movies.to_csv('Movies.csv', sep = ';', index = False)\n",
    "df_actors.to_csv('Actors.csv', sep = ';', index = False)"
   ]
  },
  {
   "attachments": {},
   "cell_type": "markdown",
   "metadata": {},
   "source": [
    "Ahora trabajar sobre los ratings. Extraer dos dataframes y luego los unificarlos. Uno con el promedio de valoración por película, y el general de valoraciones por cada usuario."
   ]
  },
  {
   "cell_type": "code",
   "execution_count": 26,
   "metadata": {},
   "outputs": [],
   "source": [
    "df_rating1 = pd.read_csv('../P1_ML/MLOpsReviews/ratings/1.csv', sep = ',')\n",
    "df_rating2 = pd.read_csv('../P1_ML/MLOpsReviews/ratings/2.csv', sep = ',')\n",
    "df_rating3 = pd.read_csv('../P1_ML/MLOpsReviews/ratings/3.csv', sep = ',')\n",
    "df_rating4 = pd.read_csv('../P1_ML/MLOpsReviews/ratings/4.csv', sep = ',')\n",
    "df_rating5 = pd.read_csv('../P1_ML/MLOpsReviews/ratings/5.csv', sep = ',')\n",
    "df_rating6 = pd.read_csv('../P1_ML/MLOpsReviews/ratings/6.csv', sep = ',')\n",
    "df_rating7 = pd.read_csv('../P1_ML/MLOpsReviews/ratings/7.csv', sep = ',')\n",
    "df_rating8 = pd.read_csv('../P1_ML/MLOpsReviews/ratings/8.csv', sep = ',')"
   ]
  },
  {
   "cell_type": "code",
   "execution_count": 27,
   "metadata": {},
   "outputs": [
    {
     "name": "stderr",
     "output_type": "stream",
     "text": [
      "C:\\Users\\Carlo\\AppData\\Local\\Temp\\ipykernel_13536\\109220272.py:3: SettingWithCopyWarning: \n",
      "A value is trying to be set on a copy of a slice from a DataFrame\n",
      "\n",
      "See the caveats in the documentation: https://pandas.pydata.org/pandas-docs/stable/user_guide/indexing.html#returning-a-view-versus-a-copy\n",
      "  df_rating1['timestamp'][ind] = date.fromtimestamp(time)\n",
      "C:\\Users\\Carlo\\AppData\\Local\\Temp\\ipykernel_13536\\109220272.py:5: SettingWithCopyWarning: \n",
      "A value is trying to be set on a copy of a slice from a DataFrame\n",
      "\n",
      "See the caveats in the documentation: https://pandas.pydata.org/pandas-docs/stable/user_guide/indexing.html#returning-a-view-versus-a-copy\n",
      "  df_rating2['timestamp'][ind] = date.fromtimestamp(time)\n",
      "C:\\Users\\Carlo\\AppData\\Local\\Temp\\ipykernel_13536\\109220272.py:7: SettingWithCopyWarning: \n",
      "A value is trying to be set on a copy of a slice from a DataFrame\n",
      "\n",
      "See the caveats in the documentation: https://pandas.pydata.org/pandas-docs/stable/user_guide/indexing.html#returning-a-view-versus-a-copy\n",
      "  df_rating3['timestamp'][ind] = date.fromtimestamp(time)\n",
      "C:\\Users\\Carlo\\AppData\\Local\\Temp\\ipykernel_13536\\109220272.py:9: SettingWithCopyWarning: \n",
      "A value is trying to be set on a copy of a slice from a DataFrame\n",
      "\n",
      "See the caveats in the documentation: https://pandas.pydata.org/pandas-docs/stable/user_guide/indexing.html#returning-a-view-versus-a-copy\n",
      "  df_rating4['timestamp'][ind] = date.fromtimestamp(time)\n",
      "C:\\Users\\Carlo\\AppData\\Local\\Temp\\ipykernel_13536\\109220272.py:11: SettingWithCopyWarning: \n",
      "A value is trying to be set on a copy of a slice from a DataFrame\n",
      "\n",
      "See the caveats in the documentation: https://pandas.pydata.org/pandas-docs/stable/user_guide/indexing.html#returning-a-view-versus-a-copy\n",
      "  df_rating5['timestamp'][ind] = date.fromtimestamp(time)\n",
      "C:\\Users\\Carlo\\AppData\\Local\\Temp\\ipykernel_13536\\109220272.py:13: SettingWithCopyWarning: \n",
      "A value is trying to be set on a copy of a slice from a DataFrame\n",
      "\n",
      "See the caveats in the documentation: https://pandas.pydata.org/pandas-docs/stable/user_guide/indexing.html#returning-a-view-versus-a-copy\n",
      "  df_rating6['timestamp'][ind] = date.fromtimestamp(time)\n",
      "C:\\Users\\Carlo\\AppData\\Local\\Temp\\ipykernel_13536\\109220272.py:15: SettingWithCopyWarning: \n",
      "A value is trying to be set on a copy of a slice from a DataFrame\n",
      "\n",
      "See the caveats in the documentation: https://pandas.pydata.org/pandas-docs/stable/user_guide/indexing.html#returning-a-view-versus-a-copy\n",
      "  df_rating7['timestamp'][ind] = date.fromtimestamp(time)\n",
      "C:\\Users\\Carlo\\AppData\\Local\\Temp\\ipykernel_13536\\109220272.py:17: SettingWithCopyWarning: \n",
      "A value is trying to be set on a copy of a slice from a DataFrame\n",
      "\n",
      "See the caveats in the documentation: https://pandas.pydata.org/pandas-docs/stable/user_guide/indexing.html#returning-a-view-versus-a-copy\n",
      "  df_rating8['timestamp'][ind] = date.fromtimestamp(time)\n"
     ]
    }
   ],
   "source": [
    "#La columna timestamp contiene la fecha en un tipo entero(int). Cambiamos este formato a un date.\n",
    "for ind, time in enumerate(df_rating1.timestamp):\n",
    "    df_rating1['timestamp'][ind] = date.fromtimestamp(time)\n",
    "for ind, time in enumerate(df_rating2.timestamp):\n",
    "    df_rating2['timestamp'][ind] = date.fromtimestamp(time)\n",
    "for ind, time in enumerate(df_rating3.timestamp):\n",
    "    df_rating3['timestamp'][ind] = date.fromtimestamp(time)\n",
    "for ind, time in enumerate(df_rating4.timestamp):\n",
    "    df_rating4['timestamp'][ind] = date.fromtimestamp(time)\n",
    "for ind, time in enumerate(df_rating5.timestamp):\n",
    "    df_rating5['timestamp'][ind] = date.fromtimestamp(time)\n",
    "for ind, time in enumerate(df_rating6.timestamp):\n",
    "    df_rating6['timestamp'][ind] = date.fromtimestamp(time)\n",
    "for ind, time in enumerate(df_rating7.timestamp):\n",
    "    df_rating7['timestamp'][ind] = date.fromtimestamp(time)\n",
    "for ind, time in enumerate(df_rating8.timestamp):\n",
    "    df_rating8['timestamp'][ind] = date.fromtimestamp(time)\n",
    "\n",
    "#Concatenar df para trabajar en conjunto. Este es el primer dataframe.\n",
    "df_ratings = pd.concat([df_rating1, df_rating2, df_rating3, df_rating4, df_rating5, df_rating6, df_rating7, df_rating8], ignore_index=True).drop_duplicates()\n",
    "\n",
    "#En caso de tener una máquina mejor, se puede realizar la transformación sobre el df general, sin tener que hacerlo por cada df de rating...\n",
    "#for ind, time in enumerate(df_ratings.timestamp):\n",
    "    #df_ratings['timestamp'][ind] = date.fromtimestamp(time)"
   ]
  },
  {
   "cell_type": "code",
   "execution_count": 28,
   "metadata": {},
   "outputs": [],
   "source": [
    "#Extraer rating y el movieId del df de ratings general, para valorar el promedio por película.\n",
    "rating = df_ratings[['rating']]\n",
    "movies = df_ratings[['movieId']]"
   ]
  },
  {
   "cell_type": "code",
   "execution_count": 29,
   "metadata": {},
   "outputs": [
    {
     "data": {
      "text/html": [
       "<div>\n",
       "<style scoped>\n",
       "    .dataframe tbody tr th:only-of-type {\n",
       "        vertical-align: middle;\n",
       "    }\n",
       "\n",
       "    .dataframe tbody tr th {\n",
       "        vertical-align: top;\n",
       "    }\n",
       "\n",
       "    .dataframe thead th {\n",
       "        text-align: right;\n",
       "    }\n",
       "</style>\n",
       "<table border=\"1\" class=\"dataframe\">\n",
       "  <thead>\n",
       "    <tr style=\"text-align: right;\">\n",
       "      <th></th>\n",
       "      <th>movieId</th>\n",
       "      <th>rating</th>\n",
       "    </tr>\n",
       "  </thead>\n",
       "  <tbody>\n",
       "    <tr>\n",
       "      <th>0</th>\n",
       "      <td>as1</td>\n",
       "      <td>3.467131</td>\n",
       "    </tr>\n",
       "    <tr>\n",
       "      <th>1</th>\n",
       "      <td>as10</td>\n",
       "      <td>3.439571</td>\n",
       "    </tr>\n",
       "    <tr>\n",
       "      <th>2</th>\n",
       "      <td>as100</td>\n",
       "      <td>3.610723</td>\n",
       "    </tr>\n",
       "    <tr>\n",
       "      <th>3</th>\n",
       "      <td>as1000</td>\n",
       "      <td>3.557971</td>\n",
       "    </tr>\n",
       "    <tr>\n",
       "      <th>4</th>\n",
       "      <td>as1001</td>\n",
       "      <td>3.585288</td>\n",
       "    </tr>\n",
       "  </tbody>\n",
       "</table>\n",
       "</div>"
      ],
      "text/plain": [
       "  movieId    rating\n",
       "0     as1  3.467131\n",
       "1    as10  3.439571\n",
       "2   as100  3.610723\n",
       "3  as1000  3.557971\n",
       "4  as1001  3.585288"
      ]
     },
     "execution_count": 29,
     "metadata": {},
     "output_type": "execute_result"
    }
   ],
   "source": [
    "df_rating_mean_movie = pd.concat([rating, movies], axis = 1) #Concatenar las dos columnas creadas.\n",
    "df_rating_mean_movie = df_rating_mean_movie.groupby(['movieId']).mean() #Agrupar por movieId para obtener el promedio. \n",
    "df_rating_mean_movie.reset_index(inplace = True) #Convertir movieId como columna. Es decir, resetear el index. Este es el segundo df.\n",
    "df_rating_mean_movie.head()"
   ]
  },
  {
   "cell_type": "code",
   "execution_count": 30,
   "metadata": {},
   "outputs": [],
   "source": [
    "df_ratings_total = pd.merge(df_ratings, df_rating_mean_movie, on = 'movieId') #Unir los dos df antes mencionados."
   ]
  },
  {
   "cell_type": "code",
   "execution_count": 31,
   "metadata": {},
   "outputs": [
    {
     "data": {
      "text/html": [
       "<div>\n",
       "<style scoped>\n",
       "    .dataframe tbody tr th:only-of-type {\n",
       "        vertical-align: middle;\n",
       "    }\n",
       "\n",
       "    .dataframe tbody tr th {\n",
       "        vertical-align: top;\n",
       "    }\n",
       "\n",
       "    .dataframe thead th {\n",
       "        text-align: right;\n",
       "    }\n",
       "</style>\n",
       "<table border=\"1\" class=\"dataframe\">\n",
       "  <thead>\n",
       "    <tr style=\"text-align: right;\">\n",
       "      <th></th>\n",
       "      <th>userId</th>\n",
       "      <th>rating_x</th>\n",
       "      <th>timestamp</th>\n",
       "      <th>movieId</th>\n",
       "      <th>rating_y</th>\n",
       "    </tr>\n",
       "  </thead>\n",
       "  <tbody>\n",
       "    <tr>\n",
       "      <th>0</th>\n",
       "      <td>1</td>\n",
       "      <td>1.0</td>\n",
       "      <td>2015-03-09</td>\n",
       "      <td>as680</td>\n",
       "      <td>3.545952</td>\n",
       "    </tr>\n",
       "    <tr>\n",
       "      <th>1</th>\n",
       "      <td>583</td>\n",
       "      <td>4.5</td>\n",
       "      <td>2005-04-08</td>\n",
       "      <td>as680</td>\n",
       "      <td>3.545952</td>\n",
       "    </tr>\n",
       "    <tr>\n",
       "      <th>2</th>\n",
       "      <td>765</td>\n",
       "      <td>5.0</td>\n",
       "      <td>1998-03-11</td>\n",
       "      <td>as680</td>\n",
       "      <td>3.545952</td>\n",
       "    </tr>\n",
       "    <tr>\n",
       "      <th>3</th>\n",
       "      <td>2116</td>\n",
       "      <td>3.0</td>\n",
       "      <td>1996-07-01</td>\n",
       "      <td>as680</td>\n",
       "      <td>3.545952</td>\n",
       "    </tr>\n",
       "    <tr>\n",
       "      <th>4</th>\n",
       "      <td>2143</td>\n",
       "      <td>3.0</td>\n",
       "      <td>2015-06-23</td>\n",
       "      <td>as680</td>\n",
       "      <td>3.545952</td>\n",
       "    </tr>\n",
       "  </tbody>\n",
       "</table>\n",
       "</div>"
      ],
      "text/plain": [
       "   userId  rating_x  timestamp movieId  rating_y\n",
       "0       1       1.0 2015-03-09   as680  3.545952\n",
       "1     583       4.5 2005-04-08   as680  3.545952\n",
       "2     765       5.0 1998-03-11   as680  3.545952\n",
       "3    2116       3.0 1996-07-01   as680  3.545952\n",
       "4    2143       3.0 2015-06-23   as680  3.545952"
      ]
     },
     "execution_count": 31,
     "metadata": {},
     "output_type": "execute_result"
    }
   ],
   "source": [
    "df_ratings_total.head()"
   ]
  },
  {
   "attachments": {},
   "cell_type": "markdown",
   "metadata": {},
   "source": [
    "Crear el df general(total) para realizar las consultas necesarias."
   ]
  },
  {
   "cell_type": "code",
   "execution_count": 32,
   "metadata": {},
   "outputs": [],
   "source": [
    "df_total = pd.merge(df_movies, df_ratings_total, left_on = 'id', right_on = 'movieId', how = 'inner') #Unimos los dos df de movies y ratings."
   ]
  },
  {
   "cell_type": "code",
   "execution_count": 33,
   "metadata": {},
   "outputs": [],
   "source": [
    "df_total_consultas = pd.DataFrame(df_total)\n",
    "df_total_consultas.drop(columns = ['movieId', 'type', 'cast', 'date_added', 'rating', 'listed_in', 'userId', 'timestamp'], inplace = True) #Eliminar columna 'repetida'.\n",
    "df_total_consultas.rename(columns = {'rating_x': 'score_user', 'rating_y' : 'score_mean'}, inplace = True) #Cambiar el nombre a las columnas.\n",
    "df_total_consultas = df_total_consultas[['id', 'title', 'release_year', 'duration_int', 'duration_type', 'score_user', 'score_mean']] #Organizar df.\n",
    "df_total_consultas = df_total_consultas.drop_duplicates() #Eliminar valores duplicados "
   ]
  },
  {
   "cell_type": "code",
   "execution_count": 34,
   "metadata": {},
   "outputs": [
    {
     "data": {
      "text/html": [
       "<div>\n",
       "<style scoped>\n",
       "    .dataframe tbody tr th:only-of-type {\n",
       "        vertical-align: middle;\n",
       "    }\n",
       "\n",
       "    .dataframe tbody tr th {\n",
       "        vertical-align: top;\n",
       "    }\n",
       "\n",
       "    .dataframe thead th {\n",
       "        text-align: right;\n",
       "    }\n",
       "</style>\n",
       "<table border=\"1\" class=\"dataframe\">\n",
       "  <thead>\n",
       "    <tr style=\"text-align: right;\">\n",
       "      <th></th>\n",
       "      <th>id</th>\n",
       "      <th>title</th>\n",
       "      <th>release_year</th>\n",
       "      <th>duration_int</th>\n",
       "      <th>duration_type</th>\n",
       "      <th>score_user</th>\n",
       "      <th>score_mean</th>\n",
       "    </tr>\n",
       "  </thead>\n",
       "  <tbody>\n",
       "    <tr>\n",
       "      <th>0</th>\n",
       "      <td>as1</td>\n",
       "      <td>the grand seduction</td>\n",
       "      <td>2014</td>\n",
       "      <td>113</td>\n",
       "      <td>min</td>\n",
       "      <td>5.0</td>\n",
       "      <td>3.467131</td>\n",
       "    </tr>\n",
       "    <tr>\n",
       "      <th>1</th>\n",
       "      <td>as1</td>\n",
       "      <td>the grand seduction</td>\n",
       "      <td>2014</td>\n",
       "      <td>113</td>\n",
       "      <td>min</td>\n",
       "      <td>3.0</td>\n",
       "      <td>3.467131</td>\n",
       "    </tr>\n",
       "    <tr>\n",
       "      <th>3</th>\n",
       "      <td>as1</td>\n",
       "      <td>the grand seduction</td>\n",
       "      <td>2014</td>\n",
       "      <td>113</td>\n",
       "      <td>min</td>\n",
       "      <td>3.5</td>\n",
       "      <td>3.467131</td>\n",
       "    </tr>\n",
       "    <tr>\n",
       "      <th>4</th>\n",
       "      <td>as1</td>\n",
       "      <td>the grand seduction</td>\n",
       "      <td>2014</td>\n",
       "      <td>113</td>\n",
       "      <td>min</td>\n",
       "      <td>4.0</td>\n",
       "      <td>3.467131</td>\n",
       "    </tr>\n",
       "    <tr>\n",
       "      <th>5</th>\n",
       "      <td>as1</td>\n",
       "      <td>the grand seduction</td>\n",
       "      <td>2014</td>\n",
       "      <td>113</td>\n",
       "      <td>min</td>\n",
       "      <td>4.5</td>\n",
       "      <td>3.467131</td>\n",
       "    </tr>\n",
       "  </tbody>\n",
       "</table>\n",
       "</div>"
      ],
      "text/plain": [
       "    id                title  release_year  duration_int duration_type  \\\n",
       "0  as1  the grand seduction          2014           113           min   \n",
       "1  as1  the grand seduction          2014           113           min   \n",
       "3  as1  the grand seduction          2014           113           min   \n",
       "4  as1  the grand seduction          2014           113           min   \n",
       "5  as1  the grand seduction          2014           113           min   \n",
       "\n",
       "   score_user  score_mean  \n",
       "0         5.0    3.467131  \n",
       "1         3.0    3.467131  \n",
       "3         3.5    3.467131  \n",
       "4         4.0    3.467131  \n",
       "5         4.5    3.467131  "
      ]
     },
     "execution_count": 34,
     "metadata": {},
     "output_type": "execute_result"
    }
   ],
   "source": [
    "df_total_consultas.head()"
   ]
  },
  {
   "cell_type": "code",
   "execution_count": 41,
   "metadata": {},
   "outputs": [],
   "source": [
    "df_total_consultas.to_csv('Total consultas.csv', sep = ';', index = False) #Exportar a csv."
   ]
  },
  {
   "attachments": {},
   "cell_type": "markdown",
   "metadata": {},
   "source": [
    "https://fastapi-hbsx.onrender.com/docs"
   ]
  },
  {
   "attachments": {},
   "cell_type": "markdown",
   "metadata": {},
   "source": [
    "Ya tenemos los datasets limpios para hacer las consultas en nuestra fastAPI. Ahora, vamos a analizar los dataframe anteriormente creados para ML."
   ]
  },
  {
   "attachments": {},
   "cell_type": "markdown",
   "metadata": {},
   "source": [
    "Vamos a usar el df_ratings para obtener la calificación de la movie en una fecha determinada, por el usuario. No exportamos el csv, por el peso que tendría, sino que, en el archivo del modelo concatenamos nuevamente los ratings"
   ]
  },
  {
   "cell_type": "code",
   "execution_count": 55,
   "metadata": {},
   "outputs": [
    {
     "data": {
      "text/html": [
       "<div>\n",
       "<style scoped>\n",
       "    .dataframe tbody tr th:only-of-type {\n",
       "        vertical-align: middle;\n",
       "    }\n",
       "\n",
       "    .dataframe tbody tr th {\n",
       "        vertical-align: top;\n",
       "    }\n",
       "\n",
       "    .dataframe thead th {\n",
       "        text-align: right;\n",
       "    }\n",
       "</style>\n",
       "<table border=\"1\" class=\"dataframe\">\n",
       "  <thead>\n",
       "    <tr style=\"text-align: right;\">\n",
       "      <th></th>\n",
       "      <th>userId</th>\n",
       "      <th>rating</th>\n",
       "      <th>timestamp</th>\n",
       "      <th>movieId</th>\n",
       "    </tr>\n",
       "  </thead>\n",
       "  <tbody>\n",
       "    <tr>\n",
       "      <th>0</th>\n",
       "      <td>1</td>\n",
       "      <td>1.0</td>\n",
       "      <td>2015-03-09</td>\n",
       "      <td>as680</td>\n",
       "    </tr>\n",
       "    <tr>\n",
       "      <th>1</th>\n",
       "      <td>1</td>\n",
       "      <td>4.5</td>\n",
       "      <td>2015-03-09</td>\n",
       "      <td>ns2186</td>\n",
       "    </tr>\n",
       "    <tr>\n",
       "      <th>2</th>\n",
       "      <td>1</td>\n",
       "      <td>5.0</td>\n",
       "      <td>2015-03-09</td>\n",
       "      <td>hs2381</td>\n",
       "    </tr>\n",
       "    <tr>\n",
       "      <th>3</th>\n",
       "      <td>1</td>\n",
       "      <td>5.0</td>\n",
       "      <td>2015-03-09</td>\n",
       "      <td>ns3663</td>\n",
       "    </tr>\n",
       "    <tr>\n",
       "      <th>4</th>\n",
       "      <td>1</td>\n",
       "      <td>5.0</td>\n",
       "      <td>2015-03-09</td>\n",
       "      <td>as9500</td>\n",
       "    </tr>\n",
       "  </tbody>\n",
       "</table>\n",
       "</div>"
      ],
      "text/plain": [
       "   userId  rating  timestamp movieId\n",
       "0       1     1.0 2015-03-09   as680\n",
       "1       1     4.5 2015-03-09  ns2186\n",
       "2       1     5.0 2015-03-09  hs2381\n",
       "3       1     5.0 2015-03-09  ns3663\n",
       "4       1     5.0 2015-03-09  as9500"
      ]
     },
     "execution_count": 55,
     "metadata": {},
     "output_type": "execute_result"
    }
   ],
   "source": [
    "df_ratings.head()"
   ]
  },
  {
   "attachments": {},
   "cell_type": "markdown",
   "metadata": {},
   "source": [
    "Del df_movies, extraer las columnas id, title y listed_in para obtener la descripción de las mismas.  "
   ]
  },
  {
   "cell_type": "code",
   "execution_count": 75,
   "metadata": {},
   "outputs": [
    {
     "data": {
      "text/html": [
       "<div>\n",
       "<style scoped>\n",
       "    .dataframe tbody tr th:only-of-type {\n",
       "        vertical-align: middle;\n",
       "    }\n",
       "\n",
       "    .dataframe tbody tr th {\n",
       "        vertical-align: top;\n",
       "    }\n",
       "\n",
       "    .dataframe thead th {\n",
       "        text-align: right;\n",
       "    }\n",
       "</style>\n",
       "<table border=\"1\" class=\"dataframe\">\n",
       "  <thead>\n",
       "    <tr style=\"text-align: right;\">\n",
       "      <th></th>\n",
       "      <th>id</th>\n",
       "      <th>type</th>\n",
       "      <th>title</th>\n",
       "      <th>cast</th>\n",
       "      <th>date_added</th>\n",
       "      <th>release_year</th>\n",
       "      <th>rating</th>\n",
       "      <th>duration_int</th>\n",
       "      <th>duration_type</th>\n",
       "      <th>listed_in</th>\n",
       "    </tr>\n",
       "  </thead>\n",
       "  <tbody>\n",
       "    <tr>\n",
       "      <th>0</th>\n",
       "      <td>as1</td>\n",
       "      <td>movie</td>\n",
       "      <td>the grand seduction</td>\n",
       "      <td>brendan gleeson, taylor kitsch, gordon pinsent</td>\n",
       "      <td>2021-03-30</td>\n",
       "      <td>2014</td>\n",
       "      <td>g</td>\n",
       "      <td>113</td>\n",
       "      <td>min</td>\n",
       "      <td>comedy, drama</td>\n",
       "    </tr>\n",
       "    <tr>\n",
       "      <th>1</th>\n",
       "      <td>as2</td>\n",
       "      <td>movie</td>\n",
       "      <td>take care good night</td>\n",
       "      <td>mahesh manjrekar, abhay mahajan, sachin khedekar</td>\n",
       "      <td>2021-03-30</td>\n",
       "      <td>2018</td>\n",
       "      <td>13+</td>\n",
       "      <td>110</td>\n",
       "      <td>min</td>\n",
       "      <td>drama, international</td>\n",
       "    </tr>\n",
       "    <tr>\n",
       "      <th>2</th>\n",
       "      <td>as3</td>\n",
       "      <td>movie</td>\n",
       "      <td>secrets of deception</td>\n",
       "      <td>tom sizemore, lorenzo lamas, robert lasardo, r...</td>\n",
       "      <td>2021-03-30</td>\n",
       "      <td>2017</td>\n",
       "      <td>g</td>\n",
       "      <td>74</td>\n",
       "      <td>min</td>\n",
       "      <td>action, drama, suspense</td>\n",
       "    </tr>\n",
       "    <tr>\n",
       "      <th>3</th>\n",
       "      <td>as4</td>\n",
       "      <td>movie</td>\n",
       "      <td>pink: staying true</td>\n",
       "      <td>interviews with: pink, adele, beyoncé, britney...</td>\n",
       "      <td>2021-03-30</td>\n",
       "      <td>2014</td>\n",
       "      <td>g</td>\n",
       "      <td>69</td>\n",
       "      <td>min</td>\n",
       "      <td>documentary</td>\n",
       "    </tr>\n",
       "    <tr>\n",
       "      <th>4</th>\n",
       "      <td>as5</td>\n",
       "      <td>movie</td>\n",
       "      <td>monster maker</td>\n",
       "      <td>harry dean stanton, kieran o'brien, george cos...</td>\n",
       "      <td>2021-03-30</td>\n",
       "      <td>1989</td>\n",
       "      <td>g</td>\n",
       "      <td>45</td>\n",
       "      <td>min</td>\n",
       "      <td>drama, fantasy</td>\n",
       "    </tr>\n",
       "  </tbody>\n",
       "</table>\n",
       "</div>"
      ],
      "text/plain": [
       "    id   type                 title  \\\n",
       "0  as1  movie   the grand seduction   \n",
       "1  as2  movie  take care good night   \n",
       "2  as3  movie  secrets of deception   \n",
       "3  as4  movie    pink: staying true   \n",
       "4  as5  movie         monster maker   \n",
       "\n",
       "                                                cast date_added  release_year  \\\n",
       "0     brendan gleeson, taylor kitsch, gordon pinsent 2021-03-30          2014   \n",
       "1   mahesh manjrekar, abhay mahajan, sachin khedekar 2021-03-30          2018   \n",
       "2  tom sizemore, lorenzo lamas, robert lasardo, r... 2021-03-30          2017   \n",
       "3  interviews with: pink, adele, beyoncé, britney... 2021-03-30          2014   \n",
       "4  harry dean stanton, kieran o'brien, george cos... 2021-03-30          1989   \n",
       "\n",
       "  rating  duration_int duration_type                listed_in  \n",
       "0      g           113           min            comedy, drama  \n",
       "1    13+           110           min     drama, international  \n",
       "2      g            74           min  action, drama, suspense  \n",
       "3      g            69           min              documentary  \n",
       "4      g            45           min           drama, fantasy  "
      ]
     },
     "execution_count": 75,
     "metadata": {},
     "output_type": "execute_result"
    }
   ],
   "source": [
    "df_movies.head()"
   ]
  },
  {
   "cell_type": "code",
   "execution_count": 76,
   "metadata": {},
   "outputs": [],
   "source": [
    "df_movies_description = df_movies[['id', 'title', 'listed_in']]"
   ]
  },
  {
   "attachments": {},
   "cell_type": "markdown",
   "metadata": {},
   "source": [
    "Usamos el df que tiene la calificación promedio de las películas."
   ]
  },
  {
   "cell_type": "code",
   "execution_count": 84,
   "metadata": {},
   "outputs": [
    {
     "data": {
      "text/html": [
       "<div>\n",
       "<style scoped>\n",
       "    .dataframe tbody tr th:only-of-type {\n",
       "        vertical-align: middle;\n",
       "    }\n",
       "\n",
       "    .dataframe tbody tr th {\n",
       "        vertical-align: top;\n",
       "    }\n",
       "\n",
       "    .dataframe thead th {\n",
       "        text-align: right;\n",
       "    }\n",
       "</style>\n",
       "<table border=\"1\" class=\"dataframe\">\n",
       "  <thead>\n",
       "    <tr style=\"text-align: right;\">\n",
       "      <th></th>\n",
       "      <th>movieId</th>\n",
       "      <th>rating</th>\n",
       "    </tr>\n",
       "  </thead>\n",
       "  <tbody>\n",
       "    <tr>\n",
       "      <th>0</th>\n",
       "      <td>as1</td>\n",
       "      <td>3.467131</td>\n",
       "    </tr>\n",
       "    <tr>\n",
       "      <th>1</th>\n",
       "      <td>as10</td>\n",
       "      <td>3.439571</td>\n",
       "    </tr>\n",
       "    <tr>\n",
       "      <th>2</th>\n",
       "      <td>as100</td>\n",
       "      <td>3.610723</td>\n",
       "    </tr>\n",
       "    <tr>\n",
       "      <th>3</th>\n",
       "      <td>as1000</td>\n",
       "      <td>3.557971</td>\n",
       "    </tr>\n",
       "    <tr>\n",
       "      <th>4</th>\n",
       "      <td>as1001</td>\n",
       "      <td>3.585288</td>\n",
       "    </tr>\n",
       "  </tbody>\n",
       "</table>\n",
       "</div>"
      ],
      "text/plain": [
       "  movieId    rating\n",
       "0     as1  3.467131\n",
       "1    as10  3.439571\n",
       "2   as100  3.610723\n",
       "3  as1000  3.557971\n",
       "4  as1001  3.585288"
      ]
     },
     "execution_count": 84,
     "metadata": {},
     "output_type": "execute_result"
    }
   ],
   "source": [
    "df_rating_mean_movie.head()"
   ]
  },
  {
   "cell_type": "code",
   "execution_count": 85,
   "metadata": {},
   "outputs": [],
   "source": [
    "df_total_ratings_movies = pd.merge(df_movies_description, df_rating_mean_movie, left_on = 'id', right_on = 'movieId', how = 'inner') #Unimos los df para tener información más concreta de la movie\n",
    "df_total_ratings_movies.drop(columns = ['movieId'], axis = 1 ,inplace = True)"
   ]
  },
  {
   "cell_type": "code",
   "execution_count": 82,
   "metadata": {},
   "outputs": [],
   "source": [
    "df_total_ratings_movies.to_csv('Ratings.csv', sep = ';', index = False) #Exportar a csv para trabajar el modelo."
   ]
  }
 ],
 "metadata": {
  "kernelspec": {
   "display_name": "Python 3",
   "language": "python",
   "name": "python3"
  },
  "language_info": {
   "codemirror_mode": {
    "name": "ipython",
    "version": 3
   },
   "file_extension": ".py",
   "mimetype": "text/x-python",
   "name": "python",
   "nbconvert_exporter": "python",
   "pygments_lexer": "ipython3",
   "version": "3.11.2"
  },
  "orig_nbformat": 4
 },
 "nbformat": 4,
 "nbformat_minor": 2
}
