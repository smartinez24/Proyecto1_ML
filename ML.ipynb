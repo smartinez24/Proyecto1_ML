{
 "cells": [
  {
   "attachments": {},
   "cell_type": "markdown",
   "metadata": {},
   "source": [
    "Importar librerias"
   ]
  },
  {
   "cell_type": "code",
   "execution_count": 11,
   "metadata": {},
   "outputs": [],
   "source": [
    "import pandas as pd\n",
    "import numpy as np\n",
    "from datetime import datetime, date"
   ]
  },
  {
   "attachments": {},
   "cell_type": "markdown",
   "metadata": {},
   "source": [
    "Concatenar nuevamente los df de ratings"
   ]
  },
  {
   "cell_type": "code",
   "execution_count": 43,
   "metadata": {},
   "outputs": [],
   "source": [
    "df_rating1 = pd.read_csv('../P1_ML/MLOpsReviews/ratings/1.csv', sep = ',')\n",
    "df_rating2 = pd.read_csv('../P1_ML/MLOpsReviews/ratings/2.csv', sep = ',')\n",
    "df_rating3 = pd.read_csv('../P1_ML/MLOpsReviews/ratings/3.csv', sep = ',')\n",
    "df_rating4 = pd.read_csv('../P1_ML/MLOpsReviews/ratings/4.csv', sep = ',')\n",
    "df_rating5 = pd.read_csv('../P1_ML/MLOpsReviews/ratings/5.csv', sep = ',')\n",
    "df_rating6 = pd.read_csv('../P1_ML/MLOpsReviews/ratings/6.csv', sep = ',')\n",
    "df_rating7 = pd.read_csv('../P1_ML/MLOpsReviews/ratings/7.csv', sep = ',')\n",
    "df_rating8 = pd.read_csv('../P1_ML/MLOpsReviews/ratings/8.csv', sep = ',')"
   ]
  },
  {
   "cell_type": "code",
   "execution_count": 44,
   "metadata": {},
   "outputs": [
    {
     "name": "stderr",
     "output_type": "stream",
     "text": [
      "C:\\Users\\Carlo\\AppData\\Local\\Temp\\ipykernel_15892\\4204255159.py:2: SettingWithCopyWarning: \n",
      "A value is trying to be set on a copy of a slice from a DataFrame\n",
      "\n",
      "See the caveats in the documentation: https://pandas.pydata.org/pandas-docs/stable/user_guide/indexing.html#returning-a-view-versus-a-copy\n",
      "  df_rating1['timestamp'][ind] = date.fromtimestamp(time)\n",
      "C:\\Users\\Carlo\\AppData\\Local\\Temp\\ipykernel_15892\\4204255159.py:4: SettingWithCopyWarning: \n",
      "A value is trying to be set on a copy of a slice from a DataFrame\n",
      "\n",
      "See the caveats in the documentation: https://pandas.pydata.org/pandas-docs/stable/user_guide/indexing.html#returning-a-view-versus-a-copy\n",
      "  df_rating2['timestamp'][ind] = date.fromtimestamp(time)\n",
      "C:\\Users\\Carlo\\AppData\\Local\\Temp\\ipykernel_15892\\4204255159.py:6: SettingWithCopyWarning: \n",
      "A value is trying to be set on a copy of a slice from a DataFrame\n",
      "\n",
      "See the caveats in the documentation: https://pandas.pydata.org/pandas-docs/stable/user_guide/indexing.html#returning-a-view-versus-a-copy\n",
      "  df_rating3['timestamp'][ind] = date.fromtimestamp(time)\n",
      "C:\\Users\\Carlo\\AppData\\Local\\Temp\\ipykernel_15892\\4204255159.py:8: SettingWithCopyWarning: \n",
      "A value is trying to be set on a copy of a slice from a DataFrame\n",
      "\n",
      "See the caveats in the documentation: https://pandas.pydata.org/pandas-docs/stable/user_guide/indexing.html#returning-a-view-versus-a-copy\n",
      "  df_rating4['timestamp'][ind] = date.fromtimestamp(time)\n",
      "C:\\Users\\Carlo\\AppData\\Local\\Temp\\ipykernel_15892\\4204255159.py:10: SettingWithCopyWarning: \n",
      "A value is trying to be set on a copy of a slice from a DataFrame\n",
      "\n",
      "See the caveats in the documentation: https://pandas.pydata.org/pandas-docs/stable/user_guide/indexing.html#returning-a-view-versus-a-copy\n",
      "  df_rating5['timestamp'][ind] = date.fromtimestamp(time)\n",
      "C:\\Users\\Carlo\\AppData\\Local\\Temp\\ipykernel_15892\\4204255159.py:12: SettingWithCopyWarning: \n",
      "A value is trying to be set on a copy of a slice from a DataFrame\n",
      "\n",
      "See the caveats in the documentation: https://pandas.pydata.org/pandas-docs/stable/user_guide/indexing.html#returning-a-view-versus-a-copy\n",
      "  df_rating6['timestamp'][ind] = date.fromtimestamp(time)\n",
      "C:\\Users\\Carlo\\AppData\\Local\\Temp\\ipykernel_15892\\4204255159.py:14: SettingWithCopyWarning: \n",
      "A value is trying to be set on a copy of a slice from a DataFrame\n",
      "\n",
      "See the caveats in the documentation: https://pandas.pydata.org/pandas-docs/stable/user_guide/indexing.html#returning-a-view-versus-a-copy\n",
      "  df_rating7['timestamp'][ind] = date.fromtimestamp(time)\n",
      "C:\\Users\\Carlo\\AppData\\Local\\Temp\\ipykernel_15892\\4204255159.py:16: SettingWithCopyWarning: \n",
      "A value is trying to be set on a copy of a slice from a DataFrame\n",
      "\n",
      "See the caveats in the documentation: https://pandas.pydata.org/pandas-docs/stable/user_guide/indexing.html#returning-a-view-versus-a-copy\n",
      "  df_rating8['timestamp'][ind] = date.fromtimestamp(time)\n"
     ]
    }
   ],
   "source": [
    "for ind, time in enumerate(df_rating1.timestamp):\n",
    "    df_rating1['timestamp'][ind] = date.fromtimestamp(time)\n",
    "for ind, time in enumerate(df_rating2.timestamp):\n",
    "    df_rating2['timestamp'][ind] = date.fromtimestamp(time)\n",
    "for ind, time in enumerate(df_rating3.timestamp):\n",
    "    df_rating3['timestamp'][ind] = date.fromtimestamp(time)\n",
    "for ind, time in enumerate(df_rating4.timestamp):\n",
    "    df_rating4['timestamp'][ind] = date.fromtimestamp(time)\n",
    "for ind, time in enumerate(df_rating5.timestamp):\n",
    "    df_rating5['timestamp'][ind] = date.fromtimestamp(time)\n",
    "for ind, time in enumerate(df_rating6.timestamp):\n",
    "    df_rating6['timestamp'][ind] = date.fromtimestamp(time)\n",
    "for ind, time in enumerate(df_rating7.timestamp):\n",
    "    df_rating7['timestamp'][ind] = date.fromtimestamp(time)\n",
    "for ind, time in enumerate(df_rating8.timestamp):\n",
    "    df_rating8['timestamp'][ind] = date.fromtimestamp(time)"
   ]
  },
  {
   "cell_type": "code",
   "execution_count": 45,
   "metadata": {},
   "outputs": [],
   "source": [
    "df_ratings = pd.concat([df_rating1, df_rating2, df_rating3, df_rating4, df_rating5, df_rating6, df_rating7, df_rating8], ignore_index=True).drop_duplicates()"
   ]
  },
  {
   "cell_type": "code",
   "execution_count": 48,
   "metadata": {},
   "outputs": [],
   "source": [
    "df_movies = pd.read_csv('Ratings', sep = ';')"
   ]
  }
 ],
 "metadata": {
  "kernelspec": {
   "display_name": "Python 3",
   "language": "python",
   "name": "python3"
  },
  "language_info": {
   "codemirror_mode": {
    "name": "ipython",
    "version": 3
   },
   "file_extension": ".py",
   "mimetype": "text/x-python",
   "name": "python",
   "nbconvert_exporter": "python",
   "pygments_lexer": "ipython3",
   "version": "3.11.2"
  },
  "orig_nbformat": 4
 },
 "nbformat": 4,
 "nbformat_minor": 2
}
