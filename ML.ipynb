{
 "cells": [
  {
   "attachments": {},
   "cell_type": "markdown",
   "metadata": {},
   "source": [
    "Sistema de recomendación"
   ]
  },
  {
   "attachments": {},
   "cell_type": "markdown",
   "metadata": {},
   "source": [
    "Importar librerias"
   ]
  },
  {
   "cell_type": "code",
   "execution_count": 147,
   "metadata": {},
   "outputs": [],
   "source": [
    "import pandas as pd\n",
    "import numpy as np\n",
    "from datetime import datetime, date\n",
    "from surprise import Dataset, Reader, SVD, accuracy\n",
    "from surprise.model_selection import train_test_split, cross_validate"
   ]
  },
  {
   "attachments": {},
   "cell_type": "markdown",
   "metadata": {},
   "source": [
    "Concatenar nuevamente los df de ratings"
   ]
  },
  {
   "cell_type": "code",
   "execution_count": 148,
   "metadata": {},
   "outputs": [],
   "source": [
    "df_rating1 = pd.read_csv('../P1_ML/MLOpsReviews/ratings/1.csv', sep = ',')\n",
    "df_rating2 = pd.read_csv('../P1_ML/MLOpsReviews/ratings/2.csv', sep = ',')\n",
    "df_rating3 = pd.read_csv('../P1_ML/MLOpsReviews/ratings/3.csv', sep = ',')\n",
    "df_rating4 = pd.read_csv('../P1_ML/MLOpsReviews/ratings/4.csv', sep = ',')\n",
    "df_rating5 = pd.read_csv('../P1_ML/MLOpsReviews/ratings/5.csv', sep = ',')\n",
    "df_rating6 = pd.read_csv('../P1_ML/MLOpsReviews/ratings/6.csv', sep = ',')\n",
    "df_rating7 = pd.read_csv('../P1_ML/MLOpsReviews/ratings/7.csv', sep = ',')\n",
    "df_rating8 = pd.read_csv('../P1_ML/MLOpsReviews/ratings/8.csv', sep = ',')"
   ]
  },
  {
   "cell_type": "code",
   "execution_count": 149,
   "metadata": {},
   "outputs": [
    {
     "name": "stderr",
     "output_type": "stream",
     "text": [
      "C:\\Users\\Carlo\\AppData\\Local\\Temp\\ipykernel_2656\\4204255159.py:2: SettingWithCopyWarning: \n",
      "A value is trying to be set on a copy of a slice from a DataFrame\n",
      "\n",
      "See the caveats in the documentation: https://pandas.pydata.org/pandas-docs/stable/user_guide/indexing.html#returning-a-view-versus-a-copy\n",
      "  df_rating1['timestamp'][ind] = date.fromtimestamp(time)\n",
      "C:\\Users\\Carlo\\AppData\\Local\\Temp\\ipykernel_2656\\4204255159.py:4: SettingWithCopyWarning: \n",
      "A value is trying to be set on a copy of a slice from a DataFrame\n",
      "\n",
      "See the caveats in the documentation: https://pandas.pydata.org/pandas-docs/stable/user_guide/indexing.html#returning-a-view-versus-a-copy\n",
      "  df_rating2['timestamp'][ind] = date.fromtimestamp(time)\n",
      "C:\\Users\\Carlo\\AppData\\Local\\Temp\\ipykernel_2656\\4204255159.py:6: SettingWithCopyWarning: \n",
      "A value is trying to be set on a copy of a slice from a DataFrame\n",
      "\n",
      "See the caveats in the documentation: https://pandas.pydata.org/pandas-docs/stable/user_guide/indexing.html#returning-a-view-versus-a-copy\n",
      "  df_rating3['timestamp'][ind] = date.fromtimestamp(time)\n",
      "C:\\Users\\Carlo\\AppData\\Local\\Temp\\ipykernel_2656\\4204255159.py:8: SettingWithCopyWarning: \n",
      "A value is trying to be set on a copy of a slice from a DataFrame\n",
      "\n",
      "See the caveats in the documentation: https://pandas.pydata.org/pandas-docs/stable/user_guide/indexing.html#returning-a-view-versus-a-copy\n",
      "  df_rating4['timestamp'][ind] = date.fromtimestamp(time)\n",
      "C:\\Users\\Carlo\\AppData\\Local\\Temp\\ipykernel_2656\\4204255159.py:10: SettingWithCopyWarning: \n",
      "A value is trying to be set on a copy of a slice from a DataFrame\n",
      "\n",
      "See the caveats in the documentation: https://pandas.pydata.org/pandas-docs/stable/user_guide/indexing.html#returning-a-view-versus-a-copy\n",
      "  df_rating5['timestamp'][ind] = date.fromtimestamp(time)\n",
      "C:\\Users\\Carlo\\AppData\\Local\\Temp\\ipykernel_2656\\4204255159.py:12: SettingWithCopyWarning: \n",
      "A value is trying to be set on a copy of a slice from a DataFrame\n",
      "\n",
      "See the caveats in the documentation: https://pandas.pydata.org/pandas-docs/stable/user_guide/indexing.html#returning-a-view-versus-a-copy\n",
      "  df_rating6['timestamp'][ind] = date.fromtimestamp(time)\n",
      "C:\\Users\\Carlo\\AppData\\Local\\Temp\\ipykernel_2656\\4204255159.py:14: SettingWithCopyWarning: \n",
      "A value is trying to be set on a copy of a slice from a DataFrame\n",
      "\n",
      "See the caveats in the documentation: https://pandas.pydata.org/pandas-docs/stable/user_guide/indexing.html#returning-a-view-versus-a-copy\n",
      "  df_rating7['timestamp'][ind] = date.fromtimestamp(time)\n",
      "C:\\Users\\Carlo\\AppData\\Local\\Temp\\ipykernel_2656\\4204255159.py:16: SettingWithCopyWarning: \n",
      "A value is trying to be set on a copy of a slice from a DataFrame\n",
      "\n",
      "See the caveats in the documentation: https://pandas.pydata.org/pandas-docs/stable/user_guide/indexing.html#returning-a-view-versus-a-copy\n",
      "  df_rating8['timestamp'][ind] = date.fromtimestamp(time)\n"
     ]
    }
   ],
   "source": [
    "for ind, time in enumerate(df_rating1.timestamp):\n",
    "    df_rating1['timestamp'][ind] = date.fromtimestamp(time)\n",
    "for ind, time in enumerate(df_rating2.timestamp):\n",
    "    df_rating2['timestamp'][ind] = date.fromtimestamp(time)\n",
    "for ind, time in enumerate(df_rating3.timestamp):\n",
    "    df_rating3['timestamp'][ind] = date.fromtimestamp(time)\n",
    "for ind, time in enumerate(df_rating4.timestamp):\n",
    "    df_rating4['timestamp'][ind] = date.fromtimestamp(time)\n",
    "for ind, time in enumerate(df_rating5.timestamp):\n",
    "    df_rating5['timestamp'][ind] = date.fromtimestamp(time)\n",
    "for ind, time in enumerate(df_rating6.timestamp):\n",
    "    df_rating6['timestamp'][ind] = date.fromtimestamp(time)\n",
    "for ind, time in enumerate(df_rating7.timestamp):\n",
    "    df_rating7['timestamp'][ind] = date.fromtimestamp(time)\n",
    "for ind, time in enumerate(df_rating8.timestamp):\n",
    "    df_rating8['timestamp'][ind] = date.fromtimestamp(time)"
   ]
  },
  {
   "cell_type": "code",
   "execution_count": 150,
   "metadata": {},
   "outputs": [],
   "source": [
    "df_ratings = pd.concat([df_rating1, df_rating2, df_rating3, df_rating4, df_rating5, df_rating6, df_rating7, df_rating8], ignore_index=True).drop_duplicates()"
   ]
  },
  {
   "cell_type": "code",
   "execution_count": 151,
   "metadata": {},
   "outputs": [],
   "source": [
    "df_movies = pd.read_csv('Ratings.csv', sep = ';')"
   ]
  },
  {
   "cell_type": "code",
   "execution_count": 152,
   "metadata": {},
   "outputs": [
    {
     "data": {
      "text/html": [
       "<div>\n",
       "<style scoped>\n",
       "    .dataframe tbody tr th:only-of-type {\n",
       "        vertical-align: middle;\n",
       "    }\n",
       "\n",
       "    .dataframe tbody tr th {\n",
       "        vertical-align: top;\n",
       "    }\n",
       "\n",
       "    .dataframe thead th {\n",
       "        text-align: right;\n",
       "    }\n",
       "</style>\n",
       "<table border=\"1\" class=\"dataframe\">\n",
       "  <thead>\n",
       "    <tr style=\"text-align: right;\">\n",
       "      <th></th>\n",
       "      <th>userId</th>\n",
       "      <th>rating</th>\n",
       "      <th>timestamp</th>\n",
       "      <th>movieId</th>\n",
       "    </tr>\n",
       "  </thead>\n",
       "  <tbody>\n",
       "    <tr>\n",
       "      <th>0</th>\n",
       "      <td>1</td>\n",
       "      <td>1.0</td>\n",
       "      <td>2015-03-09</td>\n",
       "      <td>as680</td>\n",
       "    </tr>\n",
       "    <tr>\n",
       "      <th>1</th>\n",
       "      <td>1</td>\n",
       "      <td>4.5</td>\n",
       "      <td>2015-03-09</td>\n",
       "      <td>ns2186</td>\n",
       "    </tr>\n",
       "    <tr>\n",
       "      <th>2</th>\n",
       "      <td>1</td>\n",
       "      <td>5.0</td>\n",
       "      <td>2015-03-09</td>\n",
       "      <td>hs2381</td>\n",
       "    </tr>\n",
       "    <tr>\n",
       "      <th>3</th>\n",
       "      <td>1</td>\n",
       "      <td>5.0</td>\n",
       "      <td>2015-03-09</td>\n",
       "      <td>ns3663</td>\n",
       "    </tr>\n",
       "    <tr>\n",
       "      <th>4</th>\n",
       "      <td>1</td>\n",
       "      <td>5.0</td>\n",
       "      <td>2015-03-09</td>\n",
       "      <td>as9500</td>\n",
       "    </tr>\n",
       "  </tbody>\n",
       "</table>\n",
       "</div>"
      ],
      "text/plain": [
       "   userId  rating   timestamp movieId\n",
       "0       1     1.0  2015-03-09   as680\n",
       "1       1     4.5  2015-03-09  ns2186\n",
       "2       1     5.0  2015-03-09  hs2381\n",
       "3       1     5.0  2015-03-09  ns3663\n",
       "4       1     5.0  2015-03-09  as9500"
      ]
     },
     "execution_count": 152,
     "metadata": {},
     "output_type": "execute_result"
    }
   ],
   "source": [
    "df_ratings.head()"
   ]
  },
  {
   "cell_type": "code",
   "execution_count": 153,
   "metadata": {},
   "outputs": [
    {
     "data": {
      "text/html": [
       "<div>\n",
       "<style scoped>\n",
       "    .dataframe tbody tr th:only-of-type {\n",
       "        vertical-align: middle;\n",
       "    }\n",
       "\n",
       "    .dataframe tbody tr th {\n",
       "        vertical-align: top;\n",
       "    }\n",
       "\n",
       "    .dataframe thead th {\n",
       "        text-align: right;\n",
       "    }\n",
       "</style>\n",
       "<table border=\"1\" class=\"dataframe\">\n",
       "  <thead>\n",
       "    <tr style=\"text-align: right;\">\n",
       "      <th></th>\n",
       "      <th>id</th>\n",
       "      <th>title</th>\n",
       "      <th>listed_in</th>\n",
       "      <th>rating</th>\n",
       "    </tr>\n",
       "  </thead>\n",
       "  <tbody>\n",
       "    <tr>\n",
       "      <th>0</th>\n",
       "      <td>as1</td>\n",
       "      <td>the grand seduction</td>\n",
       "      <td>comedy, drama</td>\n",
       "      <td>3.467131</td>\n",
       "    </tr>\n",
       "    <tr>\n",
       "      <th>1</th>\n",
       "      <td>as2</td>\n",
       "      <td>take care good night</td>\n",
       "      <td>drama, international</td>\n",
       "      <td>3.548682</td>\n",
       "    </tr>\n",
       "    <tr>\n",
       "      <th>2</th>\n",
       "      <td>as3</td>\n",
       "      <td>secrets of deception</td>\n",
       "      <td>action, drama, suspense</td>\n",
       "      <td>3.498812</td>\n",
       "    </tr>\n",
       "    <tr>\n",
       "      <th>3</th>\n",
       "      <td>as4</td>\n",
       "      <td>pink: staying true</td>\n",
       "      <td>documentary</td>\n",
       "      <td>3.537076</td>\n",
       "    </tr>\n",
       "    <tr>\n",
       "      <th>4</th>\n",
       "      <td>as5</td>\n",
       "      <td>monster maker</td>\n",
       "      <td>drama, fantasy</td>\n",
       "      <td>3.478992</td>\n",
       "    </tr>\n",
       "  </tbody>\n",
       "</table>\n",
       "</div>"
      ],
      "text/plain": [
       "    id                 title                listed_in    rating\n",
       "0  as1   the grand seduction            comedy, drama  3.467131\n",
       "1  as2  take care good night     drama, international  3.548682\n",
       "2  as3  secrets of deception  action, drama, suspense  3.498812\n",
       "3  as4    pink: staying true              documentary  3.537076\n",
       "4  as5         monster maker           drama, fantasy  3.478992"
      ]
     },
     "execution_count": 153,
     "metadata": {},
     "output_type": "execute_result"
    }
   ],
   "source": [
    "df_movies.head()"
   ]
  },
  {
   "attachments": {},
   "cell_type": "markdown",
   "metadata": {},
   "source": [
    "Del df_movie, usar el id y title."
   ]
  },
  {
   "cell_type": "code",
   "execution_count": 154,
   "metadata": {},
   "outputs": [],
   "source": [
    "df_movies = df_movies[['id', 'title']] #Es para configurar los datos de entrenamiento."
   ]
  },
  {
   "attachments": {},
   "cell_type": "markdown",
   "metadata": {},
   "source": [
    "Antes de entrenar el modelo, elegir la cantidad de datos a usar en el modelo. Es decir, nuestro modelo será un modelo supervisado."
   ]
  },
  {
   "cell_type": "code",
   "execution_count": 156,
   "metadata": {},
   "outputs": [],
   "source": [
    "num_rows = 120000 #No usar todos los datos. Usar cantidad pertienente para predecir con el modelo.\n",
    "reader = Reader(rating_scale = (1, 5))\n",
    "dates = Dataset.load_from_df(df_ratings[['userId', 'movieId', 'rating']][:num_rows], reader)\n",
    "trainset, testset = train_test_split(dates, test_size = .20) #Usar el 80% de los datos para el entrenamiento del modelo."
   ]
  },
  {
   "attachments": {},
   "cell_type": "markdown",
   "metadata": {},
   "source": [
    "Entrenar el modelo."
   ]
  },
  {
   "cell_type": "code",
   "execution_count": 157,
   "metadata": {},
   "outputs": [
    {
     "data": {
      "text/plain": [
       "<surprise.prediction_algorithms.matrix_factorization.SVD at 0x1a74c23c5d0>"
      ]
     },
     "execution_count": 157,
     "metadata": {},
     "output_type": "execute_result"
    }
   ],
   "source": [
    "model = SVD()\n",
    "model.fit(trainset)"
   ]
  },
  {
   "cell_type": "code",
   "execution_count": 158,
   "metadata": {},
   "outputs": [],
   "source": [
    "predicts = model.test(testset)"
   ]
  },
  {
   "cell_type": "code",
   "execution_count": 159,
   "metadata": {},
   "outputs": [
    {
     "data": {
      "text/plain": [
       "Prediction(uid=154, iid='as680', r_ui=None, est=3.88329300853749, details={'was_impossible': False})"
      ]
     },
     "execution_count": 159,
     "metadata": {},
     "output_type": "execute_result"
    }
   ],
   "source": [
    "model.predict(154,'as680')"
   ]
  },
  {
   "attachments": {},
   "cell_type": "markdown",
   "metadata": {},
   "source": [
    "Evaluación del modelo."
   ]
  },
  {
   "cell_type": "code",
   "execution_count": 168,
   "metadata": {},
   "outputs": [
    {
     "name": "stdout",
     "output_type": "stream",
     "text": [
      "RMSE: 0.9597\n"
     ]
    },
    {
     "data": {
      "text/plain": [
       "0.959740508784853"
      ]
     },
     "execution_count": 168,
     "metadata": {},
     "output_type": "execute_result"
    }
   ],
   "source": [
    "accuracy.rmse(predicts)"
   ]
  },
  {
   "cell_type": "code",
   "execution_count": 169,
   "metadata": {},
   "outputs": [
    {
     "name": "stdout",
     "output_type": "stream",
     "text": [
      "1\n",
      "Evaluating RMSE of algorithm SVD on 3 split(s).\n",
      "\n",
      "                  Fold 1  Fold 2  Fold 3  Mean    Std     \n",
      "RMSE (testset)    0.9461  0.9491  0.9546  0.9499  0.0035  \n",
      "Fit time          0.64    0.58    0.55    0.59    0.04    \n",
      "Test time         0.21    0.60    0.19    0.33    0.19    \n",
      "2\n",
      "Evaluating RMSE of algorithm SVD on 3 split(s).\n",
      "\n",
      "                  Fold 1  Fold 2  Fold 3  Mean    Std     \n",
      "RMSE (testset)    0.9516  0.9472  0.9503  0.9497  0.0018  \n",
      "Fit time          0.56    0.55    0.56    0.56    0.00    \n",
      "Test time         0.18    0.42    0.19    0.26    0.11    \n",
      "4\n",
      "Evaluating RMSE of algorithm SVD on 3 split(s).\n",
      "\n",
      "                  Fold 1  Fold 2  Fold 3  Mean    Std     \n",
      "RMSE (testset)    0.9548  0.9463  0.9504  0.9505  0.0035  \n",
      "Fit time          0.57    0.58    0.60    0.58    0.01    \n",
      "Test time         0.18    0.18    0.19    0.18    0.00    \n",
      "8\n",
      "Evaluating RMSE of algorithm SVD on 3 split(s).\n",
      "\n",
      "                  Fold 1  Fold 2  Fold 3  Mean    Std     \n",
      "RMSE (testset)    0.9551  0.9519  0.9486  0.9519  0.0027  \n",
      "Fit time          0.62    0.63    0.63    0.62    0.01    \n",
      "Test time         0.19    0.18    0.18    0.18    0.00    \n",
      "16\n",
      "Evaluating RMSE of algorithm SVD on 3 split(s).\n",
      "\n",
      "                  Fold 1  Fold 2  Fold 3  Mean    Std     \n",
      "RMSE (testset)    0.9460  0.9548  0.9532  0.9514  0.0038  \n",
      "Fit time          0.68    0.68    0.68    0.68    0.00    \n",
      "Test time         0.18    0.18    0.18    0.18    0.00    \n",
      "32\n",
      "Evaluating RMSE of algorithm SVD on 3 split(s).\n",
      "\n",
      "                  Fold 1  Fold 2  Fold 3  Mean    Std     \n",
      "RMSE (testset)    0.9526  0.9515  0.9572  0.9538  0.0025  \n",
      "Fit time          0.78    0.80    0.81    0.79    0.01    \n",
      "Test time         0.18    0.19    0.18    0.19    0.00    \n",
      "64\n",
      "Evaluating RMSE of algorithm SVD on 3 split(s).\n",
      "\n",
      "                  Fold 1  Fold 2  Fold 3  Mean    Std     \n",
      "RMSE (testset)    0.9612  0.9551  0.9537  0.9567  0.0033  \n",
      "Fit time          0.97    0.99    0.99    0.98    0.01    \n",
      "Test time         0.18    0.19    0.19    0.19    0.00    \n",
      "128\n",
      "Evaluating RMSE of algorithm SVD on 3 split(s).\n",
      "\n",
      "                  Fold 1  Fold 2  Fold 3  Mean    Std     \n",
      "RMSE (testset)    0.9603  0.9631  0.9608  0.9614  0.0012  \n",
      "Fit time          1.28    1.29    1.29    1.29    0.01    \n",
      "Test time         0.19    0.19    0.42    0.27    0.11    \n"
     ]
    }
   ],
   "source": [
    "rmse_test_means = [] #Optimizar los parámetros del modelo.\n",
    "factores = [1,2,4,8,16,32,64,128]\n",
    "for factor in factores:\n",
    "    model = SVD(n_factors = factor)\n",
    "    cross_val = cross_validate(model, dates, measures= ['RMSE'], cv = 3, verbose=True)\n",
    "    rmse_test_means.append(np.mean(cross_val['test_rmse']))"
   ]
  },
  {
   "cell_type": "code",
   "execution_count": 190,
   "metadata": {},
   "outputs": [],
   "source": [
    "def score_recommendation(userId: int, movieId: str):\n",
    "    prediction = model.predict(userId, movieId) #Predicción de score.\n",
    "    if prediction.est >= 3.5: #Condición del score.\n",
    "        return \"Se recomenda\", prediction.est\n",
    "    else:\n",
    "        return \"No se recomienda\", prediction.est"
   ]
  },
  {
   "cell_type": "code",
   "execution_count": 196,
   "metadata": {},
   "outputs": [],
   "source": [
    "def titulo(movieId: str):\n",
    "    return df_movies[df_movies.id == movieId].title.iloc[0].title()"
   ]
  },
  {
   "cell_type": "code",
   "execution_count": 197,
   "metadata": {},
   "outputs": [],
   "source": [
    "def recommendation(userId: int, movieId: str):\n",
    "    recomendado, puntaje = score_recommendation(userId, movieId)\n",
    "    title = titulo(movieId)\n",
    "    return f'La producción {title} {recomendado} ya que su valoración predicha es igual a: {puntaje}'\n",
    "recommendation(300,\"ns453\")"
   ]
  }
 ],
 "metadata": {
  "kernelspec": {
   "display_name": "Python 3",
   "language": "python",
   "name": "python3"
  },
  "language_info": {
   "codemirror_mode": {
    "name": "ipython",
    "version": 3
   },
   "file_extension": ".py",
   "mimetype": "text/x-python",
   "name": "python",
   "nbconvert_exporter": "python",
   "pygments_lexer": "ipython3",
   "version": "3.11.2"
  },
  "orig_nbformat": 4
 },
 "nbformat": 4,
 "nbformat_minor": 2
}
